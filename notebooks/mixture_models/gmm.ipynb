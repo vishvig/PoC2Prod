{
 "cells": [
  {
   "cell_type": "code",
   "execution_count": 1,
   "id": "208b68b6",
   "metadata": {},
   "outputs": [],
   "source": [
    "import numpy as np\n",
    "import pandas as pd\n",
    "import numpy.linalg as la\n",
    "import matplotlib.pyplot as plt\n",
    "from sklearn.mixture import GaussianMixture\n",
    "from sklearn.model_selection import train_test_split"
   ]
  },
  {
   "cell_type": "code",
   "execution_count": 2,
   "id": "ea7437b4",
   "metadata": {},
   "outputs": [],
   "source": [
    "rs = 1729"
   ]
  },
  {
   "cell_type": "code",
   "execution_count": 3,
   "id": "34daebf3",
   "metadata": {},
   "outputs": [
    {
     "data": {
      "text/html": [
       "<div>\n",
       "<style scoped>\n",
       "    .dataframe tbody tr th:only-of-type {\n",
       "        vertical-align: middle;\n",
       "    }\n",
       "\n",
       "    .dataframe tbody tr th {\n",
       "        vertical-align: top;\n",
       "    }\n",
       "\n",
       "    .dataframe thead th {\n",
       "        text-align: right;\n",
       "    }\n",
       "</style>\n",
       "<table border=\"1\" class=\"dataframe\">\n",
       "  <thead>\n",
       "    <tr style=\"text-align: right;\">\n",
       "      <th></th>\n",
       "      <th>Gender</th>\n",
       "      <th>Age</th>\n",
       "      <th>Driving_License</th>\n",
       "      <th>Region_Code</th>\n",
       "      <th>Previously_Insured</th>\n",
       "      <th>Vehicle_Age</th>\n",
       "      <th>Vehicle_Damage</th>\n",
       "      <th>Annual_Premium</th>\n",
       "      <th>Policy_Sales_Channel</th>\n",
       "      <th>Vintage</th>\n",
       "      <th>Response</th>\n",
       "    </tr>\n",
       "  </thead>\n",
       "  <tbody>\n",
       "    <tr>\n",
       "      <th>0</th>\n",
       "      <td>Male</td>\n",
       "      <td>22</td>\n",
       "      <td>1</td>\n",
       "      <td>7.0</td>\n",
       "      <td>1</td>\n",
       "      <td>&lt; 1 Year</td>\n",
       "      <td>No</td>\n",
       "      <td>2630.0</td>\n",
       "      <td>152.0</td>\n",
       "      <td>16</td>\n",
       "      <td>0</td>\n",
       "    </tr>\n",
       "    <tr>\n",
       "      <th>1</th>\n",
       "      <td>Male</td>\n",
       "      <td>42</td>\n",
       "      <td>1</td>\n",
       "      <td>28.0</td>\n",
       "      <td>0</td>\n",
       "      <td>1-2 Year</td>\n",
       "      <td>Yes</td>\n",
       "      <td>43327.0</td>\n",
       "      <td>26.0</td>\n",
       "      <td>135</td>\n",
       "      <td>0</td>\n",
       "    </tr>\n",
       "    <tr>\n",
       "      <th>2</th>\n",
       "      <td>Female</td>\n",
       "      <td>66</td>\n",
       "      <td>1</td>\n",
       "      <td>33.0</td>\n",
       "      <td>0</td>\n",
       "      <td>1-2 Year</td>\n",
       "      <td>Yes</td>\n",
       "      <td>35841.0</td>\n",
       "      <td>124.0</td>\n",
       "      <td>253</td>\n",
       "      <td>0</td>\n",
       "    </tr>\n",
       "    <tr>\n",
       "      <th>3</th>\n",
       "      <td>Female</td>\n",
       "      <td>22</td>\n",
       "      <td>1</td>\n",
       "      <td>33.0</td>\n",
       "      <td>0</td>\n",
       "      <td>&lt; 1 Year</td>\n",
       "      <td>No</td>\n",
       "      <td>27645.0</td>\n",
       "      <td>152.0</td>\n",
       "      <td>69</td>\n",
       "      <td>0</td>\n",
       "    </tr>\n",
       "    <tr>\n",
       "      <th>4</th>\n",
       "      <td>Male</td>\n",
       "      <td>28</td>\n",
       "      <td>1</td>\n",
       "      <td>46.0</td>\n",
       "      <td>1</td>\n",
       "      <td>&lt; 1 Year</td>\n",
       "      <td>No</td>\n",
       "      <td>29023.0</td>\n",
       "      <td>152.0</td>\n",
       "      <td>211</td>\n",
       "      <td>0</td>\n",
       "    </tr>\n",
       "  </tbody>\n",
       "</table>\n",
       "</div>"
      ],
      "text/plain": [
       "   Gender  Age  Driving_License  Region_Code  Previously_Insured Vehicle_Age  \\\n",
       "0    Male   22                1          7.0                   1    < 1 Year   \n",
       "1    Male   42                1         28.0                   0    1-2 Year   \n",
       "2  Female   66                1         33.0                   0    1-2 Year   \n",
       "3  Female   22                1         33.0                   0    < 1 Year   \n",
       "4    Male   28                1         46.0                   1    < 1 Year   \n",
       "\n",
       "  Vehicle_Damage  Annual_Premium  Policy_Sales_Channel  Vintage  Response  \n",
       "0             No          2630.0                 152.0       16         0  \n",
       "1            Yes         43327.0                  26.0      135         0  \n",
       "2            Yes         35841.0                 124.0      253         0  \n",
       "3             No         27645.0                 152.0       69         0  \n",
       "4             No         29023.0                 152.0      211         0  "
      ]
     },
     "execution_count": 3,
     "metadata": {},
     "output_type": "execute_result"
    }
   ],
   "source": [
    "original_df = pd.read_csv(r'../datasets/aug_train.csv')\n",
    "original_df = original_df.loc[:, ~original_df.columns.isin(['id'])]\n",
    "original_df.head()\n"
   ]
  },
  {
   "cell_type": "code",
   "execution_count": 4,
   "id": "509b20ed",
   "metadata": {},
   "outputs": [],
   "source": [
    "def to_numpy(df, preds, trgts, encs=None):\n",
    "    columns = list(df.columns)\n",
    "    X = np.empty(df[[i for k, v in preds.items() for i in v]].shape)\n",
    "    Y = np.empty(df[[i for k, v in trgts.items() for i in v]].shape)\n",
    "\n",
    "    for i, col in enumerate(preds['continuous']):\n",
    "        X[:, columns.index(col)] = df[col]\n",
    "    for i, col in enumerate(trgts['continuous']):\n",
    "        Y[:, i] = df[col]\n",
    "\n",
    "    if encs is None:\n",
    "        encs = dict()\n",
    "    for i, col in enumerate(preds['categorical']):\n",
    "        if col not in encs:\n",
    "            enc = LabelEncoder()\n",
    "            enc.fit(df[col])\n",
    "            encs[col] = enc\n",
    "        else:\n",
    "            enc = encs[col]\n",
    "        X[:, columns.index(col)] = enc.transform(df[col])\n",
    "    for i, col in enumerate(trgts['categorical']):\n",
    "        if col not in encs:\n",
    "            enc = LabelEncoder()\n",
    "            enc.fit(df[col])\n",
    "            encs[col] = enc\n",
    "        else:\n",
    "            enc = encs[col]\n",
    "        Y[:, i] = enc.transform(df[col])\n",
    "\n",
    "    return X, Y, encs\n",
    "\n"
   ]
  },
  {
   "cell_type": "code",
   "execution_count": 5,
   "id": "d334d8eb",
   "metadata": {},
   "outputs": [
    {
     "name": "stderr",
     "output_type": "stream",
     "text": [
      "/Users/Vishvig/Desktop/Education/UoB/.uob/envs/data_analytics/lib/python3.9/site-packages/sklearn/base.py:329: UserWarning: Trying to unpickle estimator LabelEncoder from version 1.1.1 when using version 1.0.2. This might lead to breaking code or invalid results. Use at your own risk. For more info please refer to:\n",
      "https://scikit-learn.org/stable/modules/model_persistence.html#security-maintainability-limitations\n",
      "  warnings.warn(\n"
     ]
    }
   ],
   "source": [
    "import joblib\n",
    "\n",
    "\n",
    "predictors = {'categorical': ['Gender', 'Age', 'Driving_License',\n",
    "                                  'Region_Code', 'Previously_Insured', 'Vehicle_Age',\n",
    "                                  'Vehicle_Damage', 'Policy_Sales_Channel', 'Vintage'],\n",
    "              'continuous': ['Annual_Premium']}\n",
    "targets = {'categorical': ['Response'],\n",
    "           'continuous': []}\n",
    "pre_process_model = joblib.load(r\"../model/logistic_regression_pre_process.pkl\")\n",
    "original_df = original_df[pre_process_model['columns']]\n",
    "_X, _Y, _encs = to_numpy(original_df,\n",
    "                         preds=predictors,\n",
    "                         trgts=targets,\n",
    "                         encs=pre_process_model[\"encs\"])\n",
    "joined = np.hstack((_X, _Y))"
   ]
  },
  {
   "cell_type": "code",
   "execution_count": 6,
   "id": "073bf627",
   "metadata": {},
   "outputs": [
    {
     "name": "stdout",
     "output_type": "stream",
     "text": [
      "[[ 2630.]\n",
      " [43327.]\n",
      " [35841.]\n",
      " [27645.]\n",
      " [29023.]\n",
      " [27954.]\n",
      " [ 2630.]\n",
      " [ 2630.]\n",
      " [55873.]\n",
      " [27801.]\n",
      " [63623.]\n",
      " [47665.]\n",
      " [25434.]\n",
      " [40044.]\n",
      " [38347.]\n",
      " [33303.]\n",
      " [ 2630.]\n",
      " [30649.]\n",
      " [35887.]\n",
      " [28333.]]\n"
     ]
    }
   ],
   "source": [
    "n_samples, n_features = original_df.shape\n",
    "\n",
    "features = list()\n",
    "features.extend(predictors['continuous'])\n",
    "features.extend(targets['continuous'])\n",
    "\n",
    "X = np.zeros((n_samples, len(features)))\n",
    "columns = list(pre_process_model['columns'])\n",
    "\n",
    "for i, feature in enumerate(features):\n",
    "    X[:, i] = joined[:, columns.index(feature)]\n",
    "print(X[0:20])"
   ]
  },
  {
   "cell_type": "code",
   "execution_count": 8,
   "id": "34d6878b",
   "metadata": {
    "scrolled": true
   },
   "outputs": [
    {
     "name": "stdout",
     "output_type": "stream",
     "text": [
      "Trying reg_covar: 1e-06\n",
      "Trying max_iter: 10\n",
      "0-0\n",
      "0-1\n",
      "0-2\n",
      "0-3\n",
      "0-4\n",
      "0-5\n",
      "0-6\n",
      "0-7\n",
      "0-8\n",
      "0-9\n",
      "0-10\n",
      "0-11\n",
      "0-12\n",
      "0-13\n",
      "1-0\n",
      "1-1\n"
     ]
    },
    {
     "name": "stderr",
     "output_type": "stream",
     "text": [
      "/var/folders/31/zh2tg5jj2wsfynmj9mngmgg80000gn/T/ipykernel_47959/1720320579.py:86: UserWarning: reg_covar 1e-06 is too small.\n",
      "  warnings.warn(f\"reg_covar {reg_covar} is too small.\")\n"
     ]
    },
    {
     "name": "stdout",
     "output_type": "stream",
     "text": [
      "Trying max_iter: 100\n",
      "Trying reg_covar: 1e-05\n",
      "Trying max_iter: 10\n",
      "0-0\n",
      "0-1\n",
      "0-2\n",
      "0-3\n",
      "0-4\n",
      "0-5\n",
      "0-6\n",
      "0-7\n",
      "0-8\n",
      "0-9\n",
      "0-10\n",
      "0-11\n",
      "0-12\n",
      "0-13\n",
      "1-0\n",
      "1-1\n"
     ]
    },
    {
     "name": "stderr",
     "output_type": "stream",
     "text": [
      "/var/folders/31/zh2tg5jj2wsfynmj9mngmgg80000gn/T/ipykernel_47959/1720320579.py:86: UserWarning: reg_covar 1e-05 is too small.\n",
      "  warnings.warn(f\"reg_covar {reg_covar} is too small.\")\n"
     ]
    },
    {
     "name": "stdout",
     "output_type": "stream",
     "text": [
      "Trying max_iter: 100\n",
      "Trying reg_covar: 0.0001\n",
      "Trying max_iter: 10\n",
      "0-0\n",
      "0-1\n",
      "0-2\n",
      "0-3\n",
      "0-4\n",
      "0-5\n",
      "0-6\n",
      "0-7\n",
      "0-8\n",
      "0-9\n",
      "0-10\n",
      "0-11\n",
      "0-12\n",
      "0-13\n",
      "1-0\n",
      "1-1\n",
      "1-2\n",
      "1-3\n",
      "1-4\n",
      "1-5\n",
      "1-6\n",
      "1-7\n",
      "1-8\n",
      "1-9\n",
      "1-10\n",
      "1-11\n",
      "1-12\n",
      "1-13\n",
      "2-0\n",
      "2-1\n",
      "2-2\n",
      "2-3\n",
      "2-4\n",
      "2-5\n",
      "2-6\n",
      "2-7\n",
      "2-8\n",
      "2-9\n",
      "2-10\n",
      "2-11\n",
      "2-12\n",
      "2-13\n",
      "3-0\n",
      "3-1\n",
      "3-2\n",
      "3-3\n",
      "3-4\n",
      "3-5\n",
      "3-6\n",
      "3-7\n",
      "3-8\n",
      "3-9\n",
      "3-10\n",
      "3-11\n",
      "3-12\n",
      "3-13\n",
      "valid max_iter from training: 100\n",
      "valid reg_covar from training: 0.0001\n"
     ]
    }
   ],
   "source": [
    "import warnings\n",
    "from sklearn.exceptions import ConvergenceWarning\n",
    "from sklearn.model_selection import KFold\n",
    "\n",
    "\n",
    "def cross_validation(model, X, cv=5):\n",
    "    train_scores = list()\n",
    "    val_scores = list()\n",
    "    _cv = KFold(n_splits=cv,random_state=rs, shuffle=True)\n",
    "    with warnings.catch_warnings():\n",
    "        warnings.filterwarnings('error', category=ConvergenceWarning)\n",
    "        try:\n",
    "            for train_index, val_index in _cv.split(X):\n",
    "                Xtrain, Xval = X[train_index], X[val_index]\n",
    "                model.fit(Xtrain)\n",
    "                train_scores.append(np.sum(-model.score_samples(Xtrain)) / Xtrain.shape[0])\n",
    "                val_scores.append(np.sum(-model.score_samples(Xval)) / Xval.shape[0])\n",
    "        except ValueError as e:\n",
    "            raise ValueError(e)\n",
    "        except ConvergenceWarning as e:\n",
    "            raise ConvergenceWarning(e)\n",
    "    return {'train_score': train_scores, 'test_score': val_scores}\n",
    "\n",
    "\n",
    "def train(**kwargs):\n",
    "    trainNLL = []\n",
    "    validNLL = []\n",
    "    nvalid = []\n",
    "    valid_max_iter = None\n",
    "    valid_reg_covar = None\n",
    "    \n",
    "    max_iters = kwargs.get('max_iters', None)\n",
    "    reg_covars = kwargs.get('reg_covars', None)\n",
    "    nvals = kwargs.get('nvals', None)\n",
    "    cov_types = kwargs.get('cov_types', None)\n",
    "    \n",
    "    if max_iters is None:\n",
    "        max_iters = [10, 100, 1000, 10000, 100000]\n",
    "    if reg_covars is None:\n",
    "        reg_covars = [1e-6, 1e-5, 1e-4, 1e-3, 1e-2, 1e-1]\n",
    "    if nvals is None:\n",
    "        nvals = (1, 2, 3, 4, 5, 6, 7, 8, 9, 10, 20, 30, 40 , 50)\n",
    "    if cov_types is None:\n",
    "        cov_types = ['full', 'spherical', 'diag', 'tied']\n",
    "    \n",
    "    with warnings.catch_warnings():\n",
    "        warnings.filterwarnings('error', category=ConvergenceWarning)\n",
    "        for reg_covar in reg_covars:\n",
    "            if valid_reg_covar is None:\n",
    "                valid_reg_covar = reg_covar\n",
    "            else:\n",
    "                print(f\"valid reg_covar from training: {valid_reg_covar}\")\n",
    "                break\n",
    "            print(f\"Trying reg_covar: {reg_covar}\")\n",
    "            for max_iter in max_iters:\n",
    "                if valid_max_iter is None:\n",
    "                    valid_max_iter = max_iter\n",
    "                else:\n",
    "                    if valid_reg_covar is None:\n",
    "                        continue\n",
    "                    if len(nvalid) > 0:\n",
    "                        print(f\"valid max_iter from training: {valid_max_iter}\")\n",
    "                        break\n",
    "                print(f\"Trying max_iter: {max_iter}\")\n",
    "                for i, cov in enumerate(cov_types):\n",
    "                    if valid_max_iter is None or valid_reg_covar is None:\n",
    "                        break\n",
    "                    for j, n in enumerate(nvals):\n",
    "                        if valid_max_iter is None or valid_reg_covar is None:\n",
    "                            break\n",
    "                        print(f\"{i}-{j}\")\n",
    "                        train_score = None\n",
    "                        validation_score = None\n",
    "                        try:\n",
    "                            model = GaussianMixture(n_components=n,\n",
    "                                                    covariance_type=cov,\n",
    "                                                    random_state = rs,\n",
    "                                                    max_iter=valid_max_iter,\n",
    "                                                    reg_covar=valid_reg_covar\n",
    "                                                   )\n",
    "                            scores = cross_validation(model, X, cv=5)\n",
    "                            trainNLL.append(np.mean(scores['train_score']))\n",
    "                            validNLL.append(np.mean(scores['test_score']))\n",
    "                            nvalid.append(f\"{i}-{j}\")\n",
    "                        except ValueError as e:\n",
    "                            warnings.warn(f\"reg_covar {reg_covar} is too small.\")\n",
    "                            valid_reg_covar = None\n",
    "                            valid_max_iter = None\n",
    "                            trainNLL = []\n",
    "                            validNLL = []\n",
    "                            nvalid = []\n",
    "                            break\n",
    "                        except ConvergenceWarning:\n",
    "                            warnings.warn(f\"max_iter {max_iter} is too small to reach convergence.\")\n",
    "                            valid_max_iter = None\n",
    "                            trainNLL = []\n",
    "                            validNLL = []\n",
    "                            nvalid = []\n",
    "                            break\n",
    "    return trainNLL, validNLL, nvalid, valid_max_iter, valid_reg_covar\n",
    "\n",
    "\n",
    "\n",
    "hyperparams = dict(max_iters=[10, 100, 1000, 10000, 100000],\n",
    "                   reg_covars=[1e-6, 1e-5, 1e-4, 1e-3, 1e-2, 1e-1],\n",
    "                   nvals=(1, 2, 3, 4, 5, 6, 7, 8, 9, 10, 20, 30, 40 , 50),\n",
    "                   cov_types=['full', 'spherical', 'diag', 'tied'])\n",
    "_trainNLL, _validNLL, _nvalid, _valid_max_iter, _valid_reg_covar = train(**hyperparams)"
   ]
  },
  {
   "cell_type": "code",
   "execution_count": 12,
   "id": "c821ee15",
   "metadata": {},
   "outputs": [
    {
     "data": {
      "image/png": "[encoded data removed]",
      "text/plain": [
       "<Figure size 1080x1080 with 4 Axes>"
      ]
     },
     "metadata": {
      "needs_background": "light"
     },
     "output_type": "display_data"
    }
   ],
   "source": [
    "#Create elbow plot\n",
    "\n",
    "fig,ax = plt.subplots(2, 2, figsize=(15,15))\n",
    "\n",
    "\n",
    "for i, cov_type in enumerate(hyperparams[\"cov_types\"]):\n",
    "    row_num = int(i/2)\n",
    "    col_num = i%2\n",
    "    if len(ax.shape) > 1:\n",
    "        line1 = ax[row_num, col_num].plot(hyperparams['nvals'], _trainNLL[(0 + (i * 14)):(14 + (i * 14))], 'bx-')\n",
    "        line2 = ax[row_num, col_num].plot(hyperparams['nvals'], _validNLL[(0 + (i * 14)):(14 + (i * 14))], 'ro-')\n",
    "        ax[row_num, col_num].set_xlabel('K')\n",
    "        ax[row_num, col_num].set_ylabel('NLL')\n",
    "        ax[row_num, col_num].title.set_text(cov_type.upper())\n",
    "        ax[row_num, col_num].legend(['training', 'validation'])\n",
    "    else:\n",
    "        line1 = ax[col_num].plot(hyperparams['nvals'], _trainNLL[(0 + (i * 14)):(14 + (i * 14))], 'bx-')\n",
    "        line2 = ax[col_num].plot(hyperparams['nvals'], _validNLL[(0 + (i * 14)):(14 + (i * 14))], 'ro-')\n",
    "        ax[col_num].set_xlabel('K')\n",
    "        ax[col_num].set_ylabel('NLL')\n",
    "        ax[col_num].title.set_text(cov_type.upper())\n",
    "        ax[col_num].legend(['training', 'validation'])\n"
   ]
  },
  {
   "cell_type": "code",
   "execution_count": 14,
   "id": "30dbd31c",
   "metadata": {},
   "outputs": [
    {
     "data": {
      "text/plain": [
       "Text(0.5, 1.0, 'Elbow Method For Optimal n')"
      ]
     },
     "execution_count": 14,
     "metadata": {},
     "output_type": "execute_result"
    },
    {
     "data": {
      "image/png": "[encoded data removed]",
      "text/plain": [
       "<Figure size 432x288 with 1 Axes>"
      ]
     },
     "metadata": {
      "needs_background": "light"
     },
     "output_type": "display_data"
    }
   ],
   "source": [
    "plt.figure(0)\n",
    "plt.plot(_nvalid, _trainNLL, 'bx-')\n",
    "plt.plot(_nvalid, _validNLL, 'ro-')\n",
    "plt.xlabel('n')\n",
    "plt.ylabel('NLL')\n",
    "plt.title('Elbow Method For Optimal n')"
   ]
  },
  {
   "cell_type": "code",
   "execution_count": 21,
   "id": "f2c7e7a0",
   "metadata": {},
   "outputs": [
    {
     "name": "stdout",
     "output_type": "stream",
     "text": [
      "spherical 9\n"
     ]
    }
   ],
   "source": [
    "hyperparams = dict(max_iters=[10, 100, 1000, 10000, 100000],\n",
    "                   reg_covars=[1e-6, 1e-5, 1e-4, 1e-3, 1e-2, 1e-1],\n",
    "                   nvals=(1, 2, 3, 4, 5, 6, 7, 8, 9, 10, 20, 30, 40 , 50),\n",
    "                   cov_types=['full', 'spherical', 'diag', 'tied'])\n",
    "\n",
    "min_nll_index = _validNLL.index(min(_validNLL))\n",
    "_hyperparams = _nvalid[min_nll_index].split('-')\n",
    "cov_type = hyperparams['cov_types'][int(_hyperparams[0])]\n",
    "components = hyperparams['nvals'][int(_hyperparams[1])]\n",
    "print(cov_type, components)"
   ]
  },
  {
   "cell_type": "code",
   "execution_count": 23,
   "id": "cf38e934",
   "metadata": {},
   "outputs": [
    {
     "name": "stdout",
     "output_type": "stream",
     "text": [
      "(382154, 1)\n"
     ]
    }
   ],
   "source": [
    "model = GaussianMixture(n_components=components, covariance_type=cov_type, random_state = rs, max_iter=_valid_max_iter, reg_covar=_valid_reg_covar)\n",
    "model.fit(X)\n",
    "print(X.shape)\n",
    "Xn = model.sample(382154)\n"
   ]
  },
  {
   "cell_type": "code",
   "execution_count": 24,
   "id": "f87583ab",
   "metadata": {},
   "outputs": [
    {
     "data": {
      "text/plain": [
       "True"
      ]
     },
     "execution_count": 24,
     "metadata": {},
     "output_type": "execute_result"
    }
   ],
   "source": [
    "model.converged_"
   ]
  },
  {
   "cell_type": "code",
   "execution_count": 25,
   "id": "e584904c",
   "metadata": {},
   "outputs": [
    {
     "data": {
      "image/png": "[encoded data removed]",
      "text/plain": [
       "<Figure size 1080x1080 with 2 Axes>"
      ]
     },
     "metadata": {
      "needs_background": "light"
     },
     "output_type": "display_data"
    }
   ],
   "source": [
    "# plotting the distribution of the features using histogram\n",
    "n_features = X.shape[1]\n",
    "fig_rows = int(n_features/2) if n_features % 2 == 0 else int(n_features/2 + 1)\n",
    "fig_columns = 2\n",
    "bins = 100\n",
    "\n",
    "fig,ax = plt.subplots(fig_rows, fig_columns, figsize=(15,15))\n",
    "for feature in range(n_features):\n",
    "    row_num = int(feature/fig_columns)\n",
    "    col_num = feature%fig_columns\n",
    "    if len(ax.shape) > 1:\n",
    "        ax[row_num, col_num].hist([X[:, feature], Xn[0][:, feature]],\n",
    "                                  bins=bins,\n",
    "                                  label=['original', 'synthetic'])\n",
    "        ax[row_num, col_num].legend(['original', 'synthetic'])\n",
    "\n",
    "    else:\n",
    "        ax[col_num].hist([X[:, feature], Xn[0][:, feature]],\n",
    "                         bins=bins, \n",
    "                         label=['original', 'synthetic'])\n",
    "        ax[col_num].legend(['original', 'synthetic'])\n"
   ]
  },
  {
   "cell_type": "code",
   "execution_count": 26,
   "id": "aaaf7a6d",
   "metadata": {},
   "outputs": [
    {
     "name": "stdout",
     "output_type": "stream",
     "text": [
      "KstestResult(statistic=0.08245105376366596, pvalue=0.0)\n"
     ]
    }
   ],
   "source": [
    "from scipy.stats import ks_2samp\n",
    "\n",
    "n_samples, n_features = X.shape\n",
    "\n",
    "for col in range(n_features):\n",
    "    pvalue = ks_2samp(data1=X[:, col], data2=Xn[0][:, col], alternative='two-sided')\n",
    "    print(pvalue)"
   ]
  },
  {
   "cell_type": "code",
   "execution_count": 27,
   "id": "0d8a5fa0",
   "metadata": {},
   "outputs": [
    {
     "data": {
      "text/plain": [
       "<matplotlib.legend.Legend at 0x7fb171a99a30>"
      ]
     },
     "execution_count": 27,
     "metadata": {},
     "output_type": "execute_result"
    },
    {
     "data": {
      "image/png": "[encoded data removed]",
      "text/plain": [
       "<Figure size 576x288 with 1 Axes>"
      ]
     },
     "metadata": {
      "needs_background": "light"
     },
     "output_type": "display_data"
    }
   ],
   "source": [
    "fig, ax = plt.subplots(figsize=(8, 4))\n",
    "\n",
    "n0, bins0, patches0 = ax.hist(X[:, 0],\n",
    "                              bins=100,\n",
    "                              histtype='step',\n",
    "                              cumulative=True,\n",
    "                              label='Original')\n",
    "n1, bins1, patches1 = ax.hist(Xn[0][:, 0],\n",
    "                              bins=bins,\n",
    "                              histtype='step',\n",
    "                              cumulative=True,\n",
    "                              label='Synthetic')\n",
    "ax.grid(True)\n",
    "ax.legend(loc='lower center')"
   ]
  }
 ],
 "metadata": {
  "kernelspec": {
   "display_name": "Python 3 (ipykernel)",
   "language": "python",
   "name": "python3"
  },
  "language_info": {
   "codemirror_mode": {
    "name": "ipython",
    "version": 3
   },
   "file_extension": ".py",
   "mimetype": "text/x-python",
   "name": "python",
   "nbconvert_exporter": "python",
   "pygments_lexer": "ipython3",
   "version": "3.9.7"
  }
 },
 "nbformat": 4,
 "nbformat_minor": 5
}
