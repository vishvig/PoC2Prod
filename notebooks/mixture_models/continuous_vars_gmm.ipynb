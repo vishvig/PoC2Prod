{
 "cells": [
  {
   "cell_type": "code",
   "execution_count": 110,
   "id": "0c5ff23d",
   "metadata": {},
   "outputs": [],
   "source": [
    "import math\n",
    "import matplotlib.pyplot as plt\n",
    "import numpy as np\n",
    "import pandas as pd\n",
    "from sklearn.cluster import KMeans\n",
    "from scipy.spatial.distance import cdist\n",
    "from sklearn.mixture import GaussianMixture as GMM\n",
    "from matplotlib.patches import Ellipse\n",
    "from sklearn.datasets import make_moons\n",
    "from sklearn.datasets import make_blobs\n",
    "from sklearn.decomposition import PCA\n",
    "import matplotlib.pyplot as plt\n",
    "from sklearn.metrics import silhouette_score\n"
   ]
  },
  {
   "cell_type": "code",
   "execution_count": 173,
   "id": "6ede7ccb",
   "metadata": {},
   "outputs": [
    {
     "data": {
      "text/html": [
       "<div>\n",
       "<style scoped>\n",
       "    .dataframe tbody tr th:only-of-type {\n",
       "        vertical-align: middle;\n",
       "    }\n",
       "\n",
       "    .dataframe tbody tr th {\n",
       "        vertical-align: top;\n",
       "    }\n",
       "\n",
       "    .dataframe thead th {\n",
       "        text-align: right;\n",
       "    }\n",
       "</style>\n",
       "<table border=\"1\" class=\"dataframe\">\n",
       "  <thead>\n",
       "    <tr style=\"text-align: right;\">\n",
       "      <th></th>\n",
       "      <th>id</th>\n",
       "      <th>Gender</th>\n",
       "      <th>Age</th>\n",
       "      <th>Driving_License</th>\n",
       "      <th>Region_Code</th>\n",
       "      <th>Previously_Insured</th>\n",
       "      <th>Vehicle_Age</th>\n",
       "      <th>Vehicle_Damage</th>\n",
       "      <th>Annual_Premium</th>\n",
       "      <th>Policy_Sales_Channel</th>\n",
       "      <th>Vintage</th>\n",
       "      <th>Response</th>\n",
       "    </tr>\n",
       "  </thead>\n",
       "  <tbody>\n",
       "    <tr>\n",
       "      <th>0</th>\n",
       "      <td>167647</td>\n",
       "      <td>Male</td>\n",
       "      <td>22</td>\n",
       "      <td>1</td>\n",
       "      <td>7.0</td>\n",
       "      <td>1</td>\n",
       "      <td>&lt; 1 Year</td>\n",
       "      <td>No</td>\n",
       "      <td>2630.0</td>\n",
       "      <td>152.0</td>\n",
       "      <td>16</td>\n",
       "      <td>0</td>\n",
       "    </tr>\n",
       "    <tr>\n",
       "      <th>1</th>\n",
       "      <td>17163</td>\n",
       "      <td>Male</td>\n",
       "      <td>42</td>\n",
       "      <td>1</td>\n",
       "      <td>28.0</td>\n",
       "      <td>0</td>\n",
       "      <td>1-2 Year</td>\n",
       "      <td>Yes</td>\n",
       "      <td>43327.0</td>\n",
       "      <td>26.0</td>\n",
       "      <td>135</td>\n",
       "      <td>0</td>\n",
       "    </tr>\n",
       "    <tr>\n",
       "      <th>2</th>\n",
       "      <td>32023</td>\n",
       "      <td>Female</td>\n",
       "      <td>66</td>\n",
       "      <td>1</td>\n",
       "      <td>33.0</td>\n",
       "      <td>0</td>\n",
       "      <td>1-2 Year</td>\n",
       "      <td>Yes</td>\n",
       "      <td>35841.0</td>\n",
       "      <td>124.0</td>\n",
       "      <td>253</td>\n",
       "      <td>0</td>\n",
       "    </tr>\n",
       "    <tr>\n",
       "      <th>3</th>\n",
       "      <td>87447</td>\n",
       "      <td>Female</td>\n",
       "      <td>22</td>\n",
       "      <td>1</td>\n",
       "      <td>33.0</td>\n",
       "      <td>0</td>\n",
       "      <td>&lt; 1 Year</td>\n",
       "      <td>No</td>\n",
       "      <td>27645.0</td>\n",
       "      <td>152.0</td>\n",
       "      <td>69</td>\n",
       "      <td>0</td>\n",
       "    </tr>\n",
       "    <tr>\n",
       "      <th>4</th>\n",
       "      <td>501933</td>\n",
       "      <td>Male</td>\n",
       "      <td>28</td>\n",
       "      <td>1</td>\n",
       "      <td>46.0</td>\n",
       "      <td>1</td>\n",
       "      <td>&lt; 1 Year</td>\n",
       "      <td>No</td>\n",
       "      <td>29023.0</td>\n",
       "      <td>152.0</td>\n",
       "      <td>211</td>\n",
       "      <td>0</td>\n",
       "    </tr>\n",
       "  </tbody>\n",
       "</table>\n",
       "</div>"
      ],
      "text/plain": [
       "       id  Gender  Age  Driving_License  Region_Code  Previously_Insured  \\\n",
       "0  167647    Male   22                1          7.0                   1   \n",
       "1   17163    Male   42                1         28.0                   0   \n",
       "2   32023  Female   66                1         33.0                   0   \n",
       "3   87447  Female   22                1         33.0                   0   \n",
       "4  501933    Male   28                1         46.0                   1   \n",
       "\n",
       "  Vehicle_Age Vehicle_Damage  Annual_Premium  Policy_Sales_Channel  Vintage  \\\n",
       "0    < 1 Year             No          2630.0                 152.0       16   \n",
       "1    1-2 Year            Yes         43327.0                  26.0      135   \n",
       "2    1-2 Year            Yes         35841.0                 124.0      253   \n",
       "3    < 1 Year             No         27645.0                 152.0       69   \n",
       "4    < 1 Year             No         29023.0                 152.0      211   \n",
       "\n",
       "   Response  \n",
       "0         0  \n",
       "1         0  \n",
       "2         0  \n",
       "3         0  \n",
       "4         0  "
      ]
     },
     "execution_count": 173,
     "metadata": {},
     "output_type": "execute_result"
    }
   ],
   "source": [
    "df = pd.read_csv(r'datasets/aug_train.csv')\n",
    "df.head()"
   ]
  },
  {
   "cell_type": "code",
   "execution_count": 182,
   "id": "4d97ec10",
   "metadata": {},
   "outputs": [
    {
     "name": "stdout",
     "output_type": "stream",
     "text": [
      "id - 382154\n",
      "Gender - 2\n",
      "Age - 66\n",
      "Driving_License - 2\n",
      "Region_Code - 53\n",
      "Previously_Insured - 2\n",
      "Vehicle_Age - 3\n",
      "Vehicle_Damage - 2\n",
      "Annual_Premium - 48993\n",
      "Policy_Sales_Channel - 156\n",
      "Vintage - 290\n",
      "Response - 2\n"
     ]
    }
   ],
   "source": [
    "for i in list(df.columns):\n",
    "    print(f\"{i} - {len(df[i].unique())}\")"
   ]
  },
  {
   "cell_type": "code",
   "execution_count": 163,
   "id": "f2ae6689",
   "metadata": {},
   "outputs": [
    {
     "data": {
      "text/plain": [
       "Index(['id', 'Gender', 'Age', 'Driving_License', 'Region_Code',\n",
       "       'Previously_Insured', 'Vehicle_Age', 'Vehicle_Damage', 'Annual_Premium',\n",
       "       'Policy_Sales_Channel', 'Vintage', 'Response'],\n",
       "      dtype='object')"
      ]
     },
     "execution_count": 163,
     "metadata": {},
     "output_type": "execute_result"
    }
   ],
   "source": [
    "df.columns"
   ]
  },
  {
   "cell_type": "code",
   "execution_count": 254,
   "id": "03926cb4",
   "metadata": {},
   "outputs": [
    {
     "data": {
      "text/html": [
       "<div>\n",
       "<style scoped>\n",
       "    .dataframe tbody tr th:only-of-type {\n",
       "        vertical-align: middle;\n",
       "    }\n",
       "\n",
       "    .dataframe tbody tr th {\n",
       "        vertical-align: top;\n",
       "    }\n",
       "\n",
       "    .dataframe thead th {\n",
       "        text-align: right;\n",
       "    }\n",
       "</style>\n",
       "<table border=\"1\" class=\"dataframe\">\n",
       "  <thead>\n",
       "    <tr style=\"text-align: right;\">\n",
       "      <th></th>\n",
       "      <th>Region_Code</th>\n",
       "      <th>Annual_Premium</th>\n",
       "      <th>Policy_Sales_Channel</th>\n",
       "      <th>Vintage</th>\n",
       "    </tr>\n",
       "  </thead>\n",
       "  <tbody>\n",
       "    <tr>\n",
       "      <th>0</th>\n",
       "      <td>7.0</td>\n",
       "      <td>2630.0</td>\n",
       "      <td>152.0</td>\n",
       "      <td>16</td>\n",
       "    </tr>\n",
       "    <tr>\n",
       "      <th>1</th>\n",
       "      <td>28.0</td>\n",
       "      <td>43327.0</td>\n",
       "      <td>26.0</td>\n",
       "      <td>135</td>\n",
       "    </tr>\n",
       "    <tr>\n",
       "      <th>2</th>\n",
       "      <td>33.0</td>\n",
       "      <td>35841.0</td>\n",
       "      <td>124.0</td>\n",
       "      <td>253</td>\n",
       "    </tr>\n",
       "    <tr>\n",
       "      <th>3</th>\n",
       "      <td>33.0</td>\n",
       "      <td>27645.0</td>\n",
       "      <td>152.0</td>\n",
       "      <td>69</td>\n",
       "    </tr>\n",
       "    <tr>\n",
       "      <th>4</th>\n",
       "      <td>46.0</td>\n",
       "      <td>29023.0</td>\n",
       "      <td>152.0</td>\n",
       "      <td>211</td>\n",
       "    </tr>\n",
       "  </tbody>\n",
       "</table>\n",
       "</div>"
      ],
      "text/plain": [
       "   Region_Code  Annual_Premium  Policy_Sales_Channel  Vintage\n",
       "0          7.0          2630.0                 152.0       16\n",
       "1         28.0         43327.0                  26.0      135\n",
       "2         33.0         35841.0                 124.0      253\n",
       "3         33.0         27645.0                 152.0       69\n",
       "4         46.0         29023.0                 152.0      211"
      ]
     },
     "execution_count": 254,
     "metadata": {},
     "output_type": "execute_result"
    }
   ],
   "source": [
    "# df = df.drop(['id', 'Gender', 'Age', 'Driving_License', 'Region_Code', 'Previously_Insured', 'Vehicle_Age', 'Vehicle_Damage', 'Response'], axis=1)\n",
    "continuous_df = df[[\"Region_Code\", \"Annual_Premium\", \"Policy_Sales_Channel\", \"Vintage\"]]\n",
    "continuous_df.head()"
   ]
  },
  {
   "cell_type": "code",
   "execution_count": 259,
   "id": "0ac231ac",
   "metadata": {},
   "outputs": [
    {
     "name": "stdout",
     "output_type": "stream",
     "text": [
      "[[7.0000e+00 2.6300e+03 1.5200e+02 1.6000e+01]\n",
      " [2.8000e+01 4.3327e+04 2.6000e+01 1.3500e+02]\n",
      " [3.3000e+01 3.5841e+04 1.2400e+02 2.5300e+02]\n",
      " ...\n",
      " [2.8000e+01 4.0443e+04 2.6000e+01 1.8700e+02]\n",
      " [2.8000e+01 2.5380e+04 1.5200e+02 2.0800e+02]\n",
      " [1.8000e+01 3.0396e+04 1.5200e+02 1.0400e+02]]\n",
      "(382154, 4)\n"
     ]
    }
   ],
   "source": [
    "# X, y_true = make_blobs(n_samples = 400, centers = 4, cluster_std = 0.60, random_state = 0)\n",
    "# print(X.shape)\n",
    "# X = X[:, ::-1]\n",
    "X = continuous_df.to_numpy()\n",
    "print(X)\n",
    "print(continuous_df.shape)"
   ]
  },
  {
   "cell_type": "code",
   "execution_count": 206,
   "id": "bd5006a4",
   "metadata": {},
   "outputs": [
    {
     "name": "stdout",
     "output_type": "stream",
     "text": [
      "111247795788413.7\n",
      "51174711650192.82\n",
      "25796324428747.195\n",
      "17097386832928.38\n",
      "11067383115417.0\n",
      "7496222360747.75\n",
      "5477618613053.256\n",
      "4216628608841.622\n",
      "3388141392957.235\n",
      "2675475563704.7065\n"
     ]
    },
    {
     "data": {
      "text/plain": [
       "Text(0.5, 1.0, 'The elbow method showing the optimal k')"
      ]
     },
     "execution_count": 206,
     "metadata": {},
     "output_type": "execute_result"
    },
    {
     "data": {
      "image/png": "[encoded data removed]",
      "text/plain": [
       "<Figure size 432x288 with 1 Axes>"
      ]
     },
     "metadata": {
      "needs_background": "light"
     },
     "output_type": "display_data"
    }
   ],
   "source": [
    "inertias = []\n",
    "silhouette_scores = []\n",
    "K = 10 \n",
    "for k in range(1, K+1):\n",
    "    kmm = KMeans(n_clusters=k).fit(X)\n",
    "    kmm.fit(X)\n",
    "    cluster_labels = kmm.labels_\n",
    "    inertia = kmm.inertia_\n",
    "    print(inertia)\n",
    "    inertias.append(inertia)\n",
    "# Plot the elbow\n",
    "plt.figure()\n",
    "plt.plot(range(1, K+1), inertias, 'bx-')\n",
    "plt.xlabel('k')\n",
    "plt.ylabel('Inertia')\n",
    "plt.title('The elbow method showing the optimal k')"
   ]
  },
  {
   "cell_type": "code",
   "execution_count": 207,
   "id": "4dfbe544",
   "metadata": {},
   "outputs": [
    {
     "name": "stdout",
     "output_type": "stream",
     "text": [
      "0 3\n",
      "1 3\n",
      "2 3\n",
      "3 3\n",
      "4 3\n",
      "5 3\n",
      "6 None\n",
      "7 None\n",
      "8 None\n",
      "9 None\n",
      "[3]\n"
     ]
    },
    {
     "name": "stderr",
     "output_type": "stream",
     "text": [
      "/Users/Vishvig/Desktop/Education/UoB/.uob/envs/data_analytics/lib/python3.9/site-packages/kneed/knee_locator.py:304: UserWarning: No knee/elbow found\n",
      "  warnings.warn(\"No knee/elbow found\")\n"
     ]
    }
   ],
   "source": [
    "from kneed import KneeLocator\n",
    "\n",
    "sensitivity = range(10)\n",
    "elbows = set()\n",
    "\n",
    "for s in sensitivity:\n",
    "    kneedle = KneeLocator(range(1, K+1), inertias, curve=\"convex\", direction=\"decreasing\", S=s, interp_method=\"interp1d\")\n",
    "    print(s, kneedle.elbow)\n",
    "    elbows.add(kneedle.elbow)\n",
    "elbows = list(filter(None, elbows))\n",
    "print(elbows)"
   ]
  },
  {
   "cell_type": "code",
   "execution_count": 241,
   "id": "6156da5f",
   "metadata": {},
   "outputs": [
    {
     "data": {
      "text/plain": [
       "Text(0.5, 1.0, 'The elbow method showing the optimal k')"
      ]
     },
     "execution_count": 241,
     "metadata": {},
     "output_type": "execute_result"
    },
    {
     "data": {
      "image/png": "[encoded data removed]",
      "text/plain": [
       "<Figure size 432x288 with 1 Axes>"
      ]
     },
     "metadata": {
      "needs_background": "light"
     },
     "output_type": "display_data"
    }
   ],
   "source": [
    "bics = []\n",
    "K = 50 \n",
    "for k in range(1, K+1):\n",
    "    gmm = GMM(n_components = k, covariance_type='full')\n",
    "    gmm.fit(X)\n",
    "    bic = gmm.bic(X)\n",
    "    bics.append(bic)\n",
    "# Plot the elbow\n",
    "plt.figure()\n",
    "plt.plot(range(1, K+1), bics, 'bx-')\n",
    "plt.xlabel('k')\n",
    "plt.ylabel('Inertia')\n",
    "plt.title('The elbow method showing the optimal k')"
   ]
  },
  {
   "cell_type": "code",
   "execution_count": 244,
   "id": "c0970507",
   "metadata": {},
   "outputs": [
    {
     "name": "stdout",
     "output_type": "stream",
     "text": [
      "49\n"
     ]
    }
   ],
   "source": [
    "print(bics.index(min(bics)))"
   ]
  },
  {
   "cell_type": "code",
   "execution_count": 260,
   "id": "e45ee447",
   "metadata": {},
   "outputs": [],
   "source": [
    "optimal_k = 4\n",
    "gmm = GMM(n_components = optimal_k, covariance_type='full').fit(X)"
   ]
  },
  {
   "cell_type": "code",
   "execution_count": 261,
   "id": "30811b71",
   "metadata": {},
   "outputs": [
    {
     "data": {
      "text/plain": [
       "array([15.55598464, 21.72535117, 28.63347684, ..., 25.67588682,\n",
       "       30.04092615, 29.56666345])"
      ]
     },
     "execution_count": 261,
     "metadata": {},
     "output_type": "execute_result"
    }
   ],
   "source": [
    "Xnew = gmm.sample(100000)\n",
    "Xnew[0][:,0]"
   ]
  },
  {
   "cell_type": "code",
   "execution_count": 262,
   "id": "2caaa59a",
   "metadata": {},
   "outputs": [
    {
     "data": {
      "image/png": "[encoded data removed]",
      "text/plain": [
       "<Figure size 1080x1080 with 4 Axes>"
      ]
     },
     "metadata": {
      "needs_background": "light"
     },
     "output_type": "display_data"
    }
   ],
   "source": [
    "# plotting the distribution of the features using histogram\n",
    "\n",
    "len_continuous = X.shape[1]\n",
    "\n",
    "fig_rows = int(len_continuous/2) if len_continuous % 2 == 0 else int(len_continuous/2 + 1)\n",
    "fig_columns = 2\n",
    "bins = 100\n",
    "\n",
    "fig,ax = plt.subplots(fig_rows, fig_columns, figsize=(15,15))\n",
    "for feature in range(len_continuous):\n",
    "    row_num = int(feature/fig_columns)\n",
    "    col_num = feature%fig_columns\n",
    "    if len(ax.shape) > 1:\n",
    "        ax[row_num, col_num].hist(X[:, feature], bins=bins)\n",
    "#         ax[row_num, col_num].title.set_text(feature.upper())\n",
    "    else:\n",
    "        ax[col_num].hist(X[:, feature], bins=bins)\n",
    "#         ax[col_num].title.set_text(feature.upper())"
   ]
  },
  {
   "cell_type": "code",
   "execution_count": 263,
   "id": "c9160b95",
   "metadata": {},
   "outputs": [
    {
     "data": {
      "image/png": "[encoded data removed]",
      "text/plain": [
       "<Figure size 1080x1080 with 4 Axes>"
      ]
     },
     "metadata": {
      "needs_background": "light"
     },
     "output_type": "display_data"
    }
   ],
   "source": [
    "# plotting the distribution of the features using histogram\n",
    "\n",
    "len_continuous = Xnew[0].shape[1]\n",
    "\n",
    "fig_rows = int(len_continuous/2) if len_continuous % 2 == 0 else int(len_continuous/2 + 1)\n",
    "fig_columns = 2\n",
    "bins = 100\n",
    "\n",
    "fig,ax = plt.subplots(fig_rows, fig_columns, figsize=(15,15))\n",
    "for feature in range(len_continuous):\n",
    "    row_num = int(feature/fig_columns)\n",
    "    col_num = feature%fig_columns\n",
    "    if len(ax.shape) > 1:\n",
    "        ax[row_num, col_num].hist(Xnew[0][:, feature], bins=bins)\n",
    "#         ax[row_num, col_num].title.set_text(feature.upper())\n",
    "    else:\n",
    "        ax[col_num].hist(Xnew[0][:, feature], bins=bins)\n",
    "#         ax[col_num].title.set_text(feature.upper())"
   ]
  },
  {
   "cell_type": "code",
   "execution_count": 237,
   "id": "fddc4f38",
   "metadata": {},
   "outputs": [
    {
     "name": "stdout",
     "output_type": "stream",
     "text": [
      "3\n",
      "0.2609025493705636\n",
      "-1.3436083154400362\n"
     ]
    }
   ],
   "source": [
    "# Log clustering metric\n",
    "\n",
    "X_merged = np.concatenate((X, Xnew[0]), axis=0)\n",
    "Na = X.shape[0]\n",
    "Nb = Xnew[0].shape[0]\n",
    "clusterer = KMeans(n_clusters=3).fit(X_merged) \n",
    "merged_labels = clusterer.fit_predict(X_merged)\n",
    "c = Na/(Na + Nb)\n",
    "\n",
    "unique_m, counts_m = np.unique(merged_labels, return_counts=True)\n",
    "unique_o, counts_o = np.unique(merged_labels[0:Na], return_counts=True)\n",
    "\n",
    "_sum = 0\n",
    "\n",
    "for _index, i in enumerate(unique_m):\n",
    "    _sum += ((counts_m[_index]/counts_o[_index]) - c) ** 2\n",
    "print(len(unique_m))\n",
    "print(_sum/len(unique_m))\n",
    "print(math.log(_sum/len(unique_m)))"
   ]
  },
  {
   "cell_type": "code",
   "execution_count": 264,
   "id": "32cd995b",
   "metadata": {},
   "outputs": [
    {
     "name": "stdout",
     "output_type": "stream",
     "text": [
      "[[2.67811806e+01 3.89022036e+04 2.60000000e+01 1.54276794e+02]\n",
      " [2.62411470e+01 2.63000000e+03 1.13829598e+02 1.54870856e+02]\n",
      " [2.61777007e+01 3.37779716e+04 1.44125784e+02 1.53957921e+02]\n",
      " [2.77234815e+01 4.97439390e+04 6.25200178e+01 1.54289707e+02]]\n",
      "[[[ 1.19610437e+02 -4.50848388e+03 -3.68579466e-28 -1.05736821e+00]\n",
      "  [-4.50848388e+03  1.38645645e+08 -3.89019514e-25 -4.95235987e+02]\n",
      "  [-3.68800788e-28 -3.88950927e-25  1.00000000e-06 -1.42798862e-27]\n",
      "  [-1.05736821e+00 -4.95235987e+02 -1.42580160e-27  7.01297259e+03]]\n",
      "\n",
      " [[ 2.15577014e+02  1.84607412e-24 -1.58989387e+01 -5.05461057e+00]\n",
      "  [ 1.84573658e-24  1.00000000e-06  8.50339682e-24  1.21980558e-23]\n",
      "  [-1.58989387e+01  8.49889743e-24  3.06571503e+03  7.03348233e+00]\n",
      "  [-5.05461057e+00  1.21961876e-23  7.03348233e+00  7.00597958e+03]]\n",
      "\n",
      " [[ 1.81373018e+02 -1.36873096e+03 -6.69489756e+00  7.71757279e-01]\n",
      "  [-1.36873096e+03  7.39195001e+07 -1.98130307e+04  3.06682440e+03]\n",
      "  [-6.69489756e+00 -1.98130307e+04  1.89847854e+02  2.00331605e-01]\n",
      "  [ 7.71757279e-01  3.06682440e+03  2.00331605e-01  7.00934846e+03]]\n",
      "\n",
      " [[ 1.49794490e+02 -4.73695475e+04 -1.22812374e+02 -2.07196359e+00]\n",
      "  [-4.73695475e+04  7.05152361e+08  7.14962920e+05 -4.64302596e+03]\n",
      "  [-1.22812374e+02  7.14962920e+05  3.03134094e+03 -3.50003418e+01]\n",
      "  [-2.07196359e+00 -4.64302596e+03 -3.50003418e+01  7.03748740e+03]]]\n"
     ]
    }
   ],
   "source": [
    "print(gmm.means_)\n",
    "# print(gmm.weights_)\n",
    "print(gmm.covariances_)\n",
    "# print(gmm.bic(X))"
   ]
  }
 ],
 "metadata": {
  "kernelspec": {
   "display_name": "Python 3 (ipykernel)",
   "language": "python",
   "name": "python3"
  },
  "language_info": {
   "codemirror_mode": {
    "name": "ipython",
    "version": 3
   },
   "file_extension": ".py",
   "mimetype": "text/x-python",
   "name": "python",
   "nbconvert_exporter": "python",
   "pygments_lexer": "ipython3",
   "version": "3.9.7"
  }
 },
 "nbformat": 4,
 "nbformat_minor": 5
}
