{
 "cells": [
  {
   "cell_type": "code",
   "execution_count": 183,
   "id": "208b68b6",
   "metadata": {},
   "outputs": [],
   "source": [
    "import numpy as np\n",
    "import pandas as pd\n",
    "import numpy.linalg as la\n",
    "import matplotlib.pyplot as plt\n",
    "from sklearn.mixture import BayesianGaussianMixture, GaussianMixture\n",
    "from sklearn.model_selection import train_test_split"
   ]
  },
  {
   "cell_type": "code",
   "execution_count": 207,
   "id": "34daebf3",
   "metadata": {},
   "outputs": [
    {
     "data": {
      "text/html": [
       "<div>\n",
       "<style scoped>\n",
       "    .dataframe tbody tr th:only-of-type {\n",
       "        vertical-align: middle;\n",
       "    }\n",
       "\n",
       "    .dataframe tbody tr th {\n",
       "        vertical-align: top;\n",
       "    }\n",
       "\n",
       "    .dataframe thead th {\n",
       "        text-align: right;\n",
       "    }\n",
       "</style>\n",
       "<table border=\"1\" class=\"dataframe\">\n",
       "  <thead>\n",
       "    <tr style=\"text-align: right;\">\n",
       "      <th></th>\n",
       "      <th>fixed acidity</th>\n",
       "      <th>volatile acidity</th>\n",
       "      <th>citric acid</th>\n",
       "      <th>residual sugar</th>\n",
       "      <th>chlorides</th>\n",
       "      <th>free sulfur dioxide</th>\n",
       "      <th>total sulfur dioxide</th>\n",
       "      <th>density</th>\n",
       "      <th>pH</th>\n",
       "      <th>sulphates</th>\n",
       "      <th>alcohol</th>\n",
       "      <th>quality</th>\n",
       "      <th>Id</th>\n",
       "    </tr>\n",
       "  </thead>\n",
       "  <tbody>\n",
       "    <tr>\n",
       "      <th>0</th>\n",
       "      <td>7.4</td>\n",
       "      <td>0.70</td>\n",
       "      <td>0.00</td>\n",
       "      <td>1.9</td>\n",
       "      <td>0.076</td>\n",
       "      <td>11.0</td>\n",
       "      <td>34.0</td>\n",
       "      <td>0.9978</td>\n",
       "      <td>3.51</td>\n",
       "      <td>0.56</td>\n",
       "      <td>9.4</td>\n",
       "      <td>5</td>\n",
       "      <td>0</td>\n",
       "    </tr>\n",
       "    <tr>\n",
       "      <th>1</th>\n",
       "      <td>7.8</td>\n",
       "      <td>0.88</td>\n",
       "      <td>0.00</td>\n",
       "      <td>2.6</td>\n",
       "      <td>0.098</td>\n",
       "      <td>25.0</td>\n",
       "      <td>67.0</td>\n",
       "      <td>0.9968</td>\n",
       "      <td>3.20</td>\n",
       "      <td>0.68</td>\n",
       "      <td>9.8</td>\n",
       "      <td>5</td>\n",
       "      <td>1</td>\n",
       "    </tr>\n",
       "    <tr>\n",
       "      <th>2</th>\n",
       "      <td>7.8</td>\n",
       "      <td>0.76</td>\n",
       "      <td>0.04</td>\n",
       "      <td>2.3</td>\n",
       "      <td>0.092</td>\n",
       "      <td>15.0</td>\n",
       "      <td>54.0</td>\n",
       "      <td>0.9970</td>\n",
       "      <td>3.26</td>\n",
       "      <td>0.65</td>\n",
       "      <td>9.8</td>\n",
       "      <td>5</td>\n",
       "      <td>2</td>\n",
       "    </tr>\n",
       "    <tr>\n",
       "      <th>3</th>\n",
       "      <td>11.2</td>\n",
       "      <td>0.28</td>\n",
       "      <td>0.56</td>\n",
       "      <td>1.9</td>\n",
       "      <td>0.075</td>\n",
       "      <td>17.0</td>\n",
       "      <td>60.0</td>\n",
       "      <td>0.9980</td>\n",
       "      <td>3.16</td>\n",
       "      <td>0.58</td>\n",
       "      <td>9.8</td>\n",
       "      <td>6</td>\n",
       "      <td>3</td>\n",
       "    </tr>\n",
       "    <tr>\n",
       "      <th>4</th>\n",
       "      <td>7.4</td>\n",
       "      <td>0.70</td>\n",
       "      <td>0.00</td>\n",
       "      <td>1.9</td>\n",
       "      <td>0.076</td>\n",
       "      <td>11.0</td>\n",
       "      <td>34.0</td>\n",
       "      <td>0.9978</td>\n",
       "      <td>3.51</td>\n",
       "      <td>0.56</td>\n",
       "      <td>9.4</td>\n",
       "      <td>5</td>\n",
       "      <td>4</td>\n",
       "    </tr>\n",
       "  </tbody>\n",
       "</table>\n",
       "</div>"
      ],
      "text/plain": [
       "   fixed acidity  volatile acidity  citric acid  residual sugar  chlorides  \\\n",
       "0            7.4              0.70         0.00             1.9      0.076   \n",
       "1            7.8              0.88         0.00             2.6      0.098   \n",
       "2            7.8              0.76         0.04             2.3      0.092   \n",
       "3           11.2              0.28         0.56             1.9      0.075   \n",
       "4            7.4              0.70         0.00             1.9      0.076   \n",
       "\n",
       "   free sulfur dioxide  total sulfur dioxide  density    pH  sulphates  \\\n",
       "0                 11.0                  34.0   0.9978  3.51       0.56   \n",
       "1                 25.0                  67.0   0.9968  3.20       0.68   \n",
       "2                 15.0                  54.0   0.9970  3.26       0.65   \n",
       "3                 17.0                  60.0   0.9980  3.16       0.58   \n",
       "4                 11.0                  34.0   0.9978  3.51       0.56   \n",
       "\n",
       "   alcohol  quality  Id  \n",
       "0      9.4        5   0  \n",
       "1      9.8        5   1  \n",
       "2      9.8        5   2  \n",
       "3      9.8        6   3  \n",
       "4      9.4        5   4  "
      ]
     },
     "execution_count": 207,
     "metadata": {},
     "output_type": "execute_result"
    }
   ],
   "source": [
    "original_df = pd.read_csv(r'datasets/WineQT.csv')\n",
    "original_df = original_df.loc[:, ~original_df.columns.isin(['id'])]\n",
    "original_df.head()\n",
    "\n",
    "# original_df = pd.read_csv(r'datasets/aug_train.csv')\n",
    "# original_df = original_df.loc[:, ~original_df.columns.isin(['id'])]\n",
    "# original_df.head()"
   ]
  },
  {
   "cell_type": "code",
   "execution_count": 225,
   "id": "509b20ed",
   "metadata": {},
   "outputs": [
    {
     "name": "stdout",
     "output_type": "stream",
     "text": [
      "[[3.1  0.73]\n",
      " [3.17 0.53]\n",
      " [3.16 0.52]\n",
      " ...\n",
      " [3.35 0.62]\n",
      " [3.42 0.6 ]\n",
      " [3.26 0.64]]\n"
     ]
    }
   ],
   "source": [
    "# X = original_df.loc[:, ~original_df.columns.isin(['id'])].to_numpy()\n",
    "X = original_df[[\"pH\", \"sulphates\"]].to_numpy()\n",
    "# X = original_df[[\"Annual_Premium\"]].to_numpy()\n",
    "Xtrain, Xvalid = train_test_split(X, test_size=0.33, random_state=1729)\n",
    "print(Xtrain)"
   ]
  },
  {
   "cell_type": "code",
   "execution_count": 226,
   "id": "34d6878b",
   "metadata": {
    "scrolled": true
   },
   "outputs": [
    {
     "name": "stdout",
     "output_type": "stream",
     "text": [
      "Trying reg_covar: 1e-06\n",
      "Trying max_iter: 10\n",
      "Trying max_iter: 100\n"
     ]
    },
    {
     "name": "stderr",
     "output_type": "stream",
     "text": [
      "/var/folders/31/zh2tg5jj2wsfynmj9mngmgg80000gn/T/ipykernel_50151/1535142301.py:72: UserWarning: max_iter 10 is too small to reach convergence.\n",
      "  warnings.warn(f\"max_iter {max_iter} is too small to reach convergence.\")\n",
      "/var/folders/31/zh2tg5jj2wsfynmj9mngmgg80000gn/T/ipykernel_50151/1535142301.py:72: UserWarning: max_iter 100 is too small to reach convergence.\n",
      "  warnings.warn(f\"max_iter {max_iter} is too small to reach convergence.\")\n"
     ]
    },
    {
     "name": "stdout",
     "output_type": "stream",
     "text": [
      "Trying max_iter: 1000\n",
      "valid max_iter from training: 1000\n",
      "Trying max_iter: 10000\n",
      "valid max_iter from training: 1000\n",
      "Trying max_iter: 100000\n",
      "valid reg_covar from training: 1e-06\n",
      "trainNLL=[2615.3325570320485, 508.7971137466452, 360.96615851636625, 360.9482661240504, 360.97805653899786, 360.8511539500205, 360.80086387258973, 368.7555521008561, 368.9062132424601, 368.8868176255515, 371.4528735649959, 370.93261286406164, 366.0887741172148, 365.8981557945829, 2615.332557032048, 508.7971137465927, 360.9661585164747, 360.94826612397674, 360.9780565389925, 360.85115395006767, 360.80086387256966, 368.75555210085065, 368.9062132424611, 368.8868176255305, 371.452873564947, 370.93261286409995, 366.0887741172868, 365.8981557945929, 2615.332557032048, 508.7971137465927, 360.9661585164747, 360.94826612397674, 360.9780565389925, 360.85115395006767, 360.80086387256966, 368.75555210085065, 368.9062132424611, 368.8868176255305, 371.452873564947, 370.93261286409995, 366.0887741172868, 365.8981557945929, 2615.3325570320485, 514.8492502834076, 402.2067254291161, 418.47313940737945, 409.04436586785425, 436.0645337572116, 429.7222955085451, 451.51662928487025, 462.3055616772965, 473.474856313308, 575.9147914496416, 671.3870923018576, 760.6590418970152, 842.2955485257526, 2615.3325570320485, 508.7971137466452, 360.96615851636625, 360.9482661240504, 360.97805653899786, 360.8511539500205, 360.80086387258973, 368.7555521008561, 368.9062132424601, 368.8868176255515, 371.4528735649959, 370.93261286406164, 366.0887741172148, 365.8981557945829, 2615.332557032048, 508.7971137465927, 360.9661585164747, 360.94826612397674, 360.9780565389925, 360.85115395006767, 360.80086387256966, 368.75555210085065, 368.9062132424611, 368.8868176255305, 371.452873564947, 370.93261286409995, 366.0887741172868, 365.8981557945929, 2615.332557032048, 508.7971137465927, 360.9661585164747, 360.94826612397674, 360.9780565389925, 360.85115395006767, 360.80086387256966, 368.75555210085065, 368.9062132424611, 368.8868176255305, 371.452873564947, 370.93261286409995, 366.0887741172868, 365.8981557945929, 2615.3325570320485, 514.8492502834076, 402.2067254291161, 418.47313940737945, 409.04436586785425, 436.0645337572116, 429.7222955085451, 451.51662928487025, 462.3055616772965, 473.474856313308, 575.9147914496416, 671.3870923018576, 760.6590418970152, 842.2955485257526, 2615.3325570320485, 508.7971137466452, 360.96615851636625, 360.9482661240504, 360.97805653899786, 360.8511539500205, 360.80086387258973, 368.7555521008561, 368.9062132424601, 368.8868176255515, 371.4528735649959, 370.93261286406164, 366.0887741172148, 365.8981557945829, 2615.332557032048, 508.7971137465927, 360.9661585164747, 360.94826612397674, 360.9780565389925, 360.85115395006767, 360.80086387256966, 368.75555210085065, 368.9062132424611, 368.8868176255305, 371.452873564947, 370.93261286409995, 366.0887741172868, 365.8981557945929, 2615.332557032048, 508.7971137465927, 360.9661585164747, 360.94826612397674, 360.9780565389925, 360.85115395006767, 360.80086387256966, 368.75555210085065, 368.9062132424611, 368.8868176255305, 371.452873564947, 370.93261286409995, 366.0887741172868, 365.8981557945929, 2615.3325570320485, 514.8492502834076, 402.2067254291161, 418.47313940737945, 409.04436586785425, 436.0645337572116, 429.7222955085451, 451.51662928487025, 462.3055616772965, 473.474856313308, 575.9147914496416, 671.3870923018576, 760.6590418970152, 842.2955485257526]\n",
      "validNLL=[1294.761891716113, 204.77898446811568, 167.68940954249993, 167.6969566576476, 167.71668828025207, 167.64594839977687, 167.61894656328838, 171.41471267068425, 171.49434879851603, 171.48429569316198, 172.93397399666512, 172.4448482104666, 170.22557838045083, 170.11837669268024, 1294.7618917161128, 204.77898446809274, 167.6894095425411, 167.6969566576186, 167.71668828025125, 167.64594839979281, 167.6189465632787, 171.41471267068175, 171.49434879851648, 171.48429569315277, 172.93397399664684, 172.44484821048002, 170.2255783804806, 170.11837669268434, 1294.7618917161128, 204.77898446809274, 167.6894095425411, 167.6969566576186, 167.71668828025125, 167.64594839979281, 167.6189465632787, 171.41471267068175, 171.49434879851648, 171.48429569315277, 172.93397399664684, 172.44484821048002, 170.2255783804806, 170.11837669268434, 1294.761891716113, 201.00349621892786, 190.10908559473884, 197.8257392963282, 193.61783632865695, 205.96989806867572, 202.92919333239178, 212.89240544187118, 217.84097405156436, 222.93575309959, 271.84748979838866, 318.44573897955536, 362.1925386254698, 402.4169391655031, 1294.761891716113, 204.77898446811568, 167.68940954249993, 167.6969566576476, 167.71668828025207, 167.64594839977687, 167.61894656328838, 171.41471267068425, 171.49434879851603, 171.48429569316198, 172.93397399666512, 172.4448482104666, 170.22557838045083, 170.11837669268024, 1294.7618917161128, 204.77898446809274, 167.6894095425411, 167.6969566576186, 167.71668828025125, 167.64594839979281, 167.6189465632787, 171.41471267068175, 171.49434879851648, 171.48429569315277, 172.93397399664684, 172.44484821048002, 170.2255783804806, 170.11837669268434, 1294.7618917161128, 204.77898446809274, 167.6894095425411, 167.6969566576186, 167.71668828025125, 167.64594839979281, 167.6189465632787, 171.41471267068175, 171.49434879851648, 171.48429569315277, 172.93397399664684, 172.44484821048002, 170.2255783804806, 170.11837669268434, 1294.761891716113, 201.00349621892786, 190.10908559473884, 197.8257392963282, 193.61783632865695, 205.96989806867572, 202.92919333239178, 212.89240544187118, 217.84097405156436, 222.93575309959, 271.84748979838866, 318.44573897955536, 362.1925386254698, 402.4169391655031, 1294.761891716113, 204.77898446811568, 167.68940954249993, 167.6969566576476, 167.71668828025207, 167.64594839977687, 167.61894656328838, 171.41471267068425, 171.49434879851603, 171.48429569316198, 172.93397399666512, 172.4448482104666, 170.22557838045083, 170.11837669268024, 1294.7618917161128, 204.77898446809274, 167.6894095425411, 167.6969566576186, 167.71668828025125, 167.64594839979281, 167.6189465632787, 171.41471267068175, 171.49434879851648, 171.48429569315277, 172.93397399664684, 172.44484821048002, 170.2255783804806, 170.11837669268434, 1294.7618917161128, 204.77898446809274, 167.6894095425411, 167.6969566576186, 167.71668828025125, 167.64594839979281, 167.6189465632787, 171.41471267068175, 171.49434879851648, 171.48429569315277, 172.93397399664684, 172.44484821048002, 170.2255783804806, 170.11837669268434, 1294.761891716113, 201.00349621892786, 190.10908559473884, 197.8257392963282, 193.61783632865695, 205.96989806867572, 202.92919333239178, 212.89240544187118, 217.84097405156436, 222.93575309959, 271.84748979838866, 318.44573897955536, 362.1925386254698, 402.4169391655031]\n"
     ]
    }
   ],
   "source": [
    "import warnings\n",
    "from sklearn.exceptions import ConvergenceWarning\n",
    "\n",
    "trainNLL = []\n",
    "validNLL = []\n",
    "\n",
    "trainAIC = []\n",
    "validateAIC = []\n",
    "trainBIC = []\n",
    "validateBIC = []\n",
    "\n",
    "\n",
    "valid_max_iter = None\n",
    "max_iters = [10, 100, 1000, 10000, 100000]\n",
    "valid_reg_covar = None\n",
    "reg_covars = [1e-6, 1e-5, 1e-4, 1e-3, 1e-2, 1e-1]\n",
    "\n",
    "\n",
    "nvals = (1, 2, 3, 4, 5, 6, 7, 8, 9, 10, 20, 30, 40 , 50)\n",
    "cov_types = ['full', 'spherical', 'diag', 'tied']\n",
    "nvalid = []\n",
    "\n",
    "Xtrain = Xtrain.reshape(-1, 1)\n",
    "Xvalid = Xvalid.reshape(-1, 1)\n",
    "\n",
    "\n",
    "with warnings.catch_warnings():\n",
    "    warnings.filterwarnings('error', category=ConvergenceWarning)\n",
    "    for reg_covar in reg_covars:\n",
    "        if valid_reg_covar is None:\n",
    "            valid_reg_covar = reg_covar\n",
    "        else:\n",
    "            print(f\"valid reg_covar from training: {valid_reg_covar}\")\n",
    "            break\n",
    "        print(f\"Trying reg_covar: {reg_covar}\")\n",
    "        for max_iter in max_iters:\n",
    "            if valid_max_iter is None:\n",
    "                valid_max_iter = max_iter\n",
    "            else:\n",
    "                if valid_reg_covar is None:\n",
    "                    continue\n",
    "                print(f\"valid max_iter from training: {valid_max_iter}\")\n",
    "            print(f\"Trying max_iter: {max_iter}\")\n",
    "            for i, cov in enumerate(cov_types):\n",
    "                if valid_max_iter is None or valid_reg_covar is None:\n",
    "                    break\n",
    "                for j, n in enumerate(nvals):\n",
    "                    if valid_max_iter is None or valid_reg_covar is None:\n",
    "                        break\n",
    "                    train_score = None\n",
    "                    validation_score = None\n",
    "                    try:\n",
    "                        clf = BayesianGaussianMixture(n_components=n,\n",
    "                                                      covariance_type=cov,\n",
    "                                                      random_state = 1729,\n",
    "                                                      max_iter=valid_max_iter,\n",
    "                                                      reg_covar=valid_reg_covar\n",
    "                                                     )\n",
    "                        clf.fit(Xtrain)\n",
    "\n",
    "                        train_score = np.sum(-clf.score_samples(Xtrain))\n",
    "                        validation_score = np.sum(-clf.score_samples(Xvalid))\n",
    "\n",
    "                    except ValueError as e:\n",
    "                        warnings.warn(f\"reg_covar {reg_covar} is too small.\")\n",
    "                        valid_reg_covar = None\n",
    "                        trainNLL = []\n",
    "                        validNLL = []\n",
    "                        nvalid = []\n",
    "                        break\n",
    "                    except ConvergenceWarning:\n",
    "                        warnings.warn(f\"max_iter {max_iter} is too small to reach convergence.\")\n",
    "                        valid_max_iter = None\n",
    "                        trainNLL = []\n",
    "                        validNLL = []\n",
    "                        nvalid = []\n",
    "                        break\n",
    "                    if train_score is not None and validation_score is not None:\n",
    "                        trainNLL.append(train_score)\n",
    "                        validNLL.append(validation_score)\n",
    "                        nvalid.append(f\"{i}-{j}\")\n",
    "print('trainNLL=' + str(trainNLL))\n",
    "print('validNLL=' + str(validNLL))\n",
    "\n",
    "\n"
   ]
  },
  {
   "cell_type": "code",
   "execution_count": 234,
   "id": "c821ee15",
   "metadata": {},
   "outputs": [
    {
     "data": {
      "image/png": "[encoded data removed]",
      "text/plain": [
       "<Figure size 1080x1080 with 4 Axes>"
      ]
     },
     "metadata": {
      "needs_background": "light"
     },
     "output_type": "display_data"
    }
   ],
   "source": [
    "#Create elbow plot\n",
    "\n",
    "fig,ax = plt.subplots(2, 2, figsize=(15,15))\n",
    "\n",
    "\n",
    "for i, cov_type in enumerate(cov_types):\n",
    "    row_num = int(i/2)\n",
    "    col_num = i%2\n",
    "    if len(ax.shape) > 1:\n",
    "        line1 = ax[row_num, col_num].plot(nvals, trainNLL[(0 + (i * 14)):(14 + (i * 14))], 'bx-')\n",
    "        line2 = ax[row_num, col_num].plot(nvals, validNLL[(0 + (i * 14)):(14 + (i * 14))], 'ro-')\n",
    "        ax[row_num, col_num].set_xlabel('K')\n",
    "        ax[row_num, col_num].set_ylabel('NLL')\n",
    "        ax[row_num, col_num].title.set_text(cov_type.upper())\n",
    "        ax[row_num, col_num].legend(['training', 'validation'])\n",
    "    else:\n",
    "        line1 = ax[col_num].plot(nvals, trainNLL[(0 + (i * 14)):(14 + (i * 14))], 'bx-')\n",
    "        line2 = ax[col_num].plot(nvals, validNLL[(0 + (i * 14)):(14 + (i * 14))], 'ro-')\n",
    "        ax[col_num].set_xlabel('K')\n",
    "        ax[col_num].set_ylabel('NLL')\n",
    "        ax[col_num].title.set_text(cov_type.upper())\n",
    "        ax[row_num, col_num].legend(['training', 'validation'])\n",
    "\n",
    "# plt.figure(0)\n",
    "# plt.plot(nvalid, trainNLL, 'bx-')\n",
    "# plt.plot(nvalid, validNLL, 'ro-')\n",
    "# plt.xlabel('n')\n",
    "# plt.ylabel('NLL')\n",
    "# plt.title('Elbow Method For Optimal n')"
   ]
  },
  {
   "cell_type": "code",
   "execution_count": 235,
   "id": "75024efb",
   "metadata": {},
   "outputs": [
    {
     "name": "stdout",
     "output_type": "stream",
     "text": [
      "['1', '6']\n",
      "spherical 7\n"
     ]
    }
   ],
   "source": [
    "optimal_LL = validNLL.index(min(validNLL))\n",
    "hyperparameters = nvalid[optimal_LL].split('-')\n",
    "print(hyperparameters)\n",
    "cov_type = cov_types[int(hyperparameters[0])]\n",
    "n_comp = nvals[int(hyperparameters[1])]\n",
    "print(cov_type, n_comp)"
   ]
  },
  {
   "cell_type": "code",
   "execution_count": 236,
   "id": "cf38e934",
   "metadata": {},
   "outputs": [],
   "source": [
    "model = BayesianGaussianMixture(n_components=n_comp, covariance_type=cov_type, random_state = 1729, max_iter=10000, reg_covar=1e-4)\n",
    "model.fit(X)\n",
    "Xn = model.sample(1000)"
   ]
  },
  {
   "cell_type": "code",
   "execution_count": 237,
   "id": "f87583ab",
   "metadata": {},
   "outputs": [
    {
     "data": {
      "text/plain": [
       "True"
      ]
     },
     "execution_count": 237,
     "metadata": {},
     "output_type": "execute_result"
    }
   ],
   "source": [
    "model.converged_"
   ]
  },
  {
   "cell_type": "code",
   "execution_count": 238,
   "id": "4e21fe7c",
   "metadata": {},
   "outputs": [
    {
     "name": "stdout",
     "output_type": "stream",
     "text": [
      "KstestResult(statistic=0.06555030621172353, pvalue=0.01928982801441145)\n",
      "KstestResult(statistic=0.060308836395450566, pvalue=0.03913126038499686)\n"
     ]
    }
   ],
   "source": [
    "from scipy.stats import ks_2samp\n",
    "\n",
    "n_samples, n_features = X.shape\n",
    "\n",
    "for col in range(n_features):\n",
    "    pvalue = ks_2samp(data1=X[:, col], data2=Xn[0][:, col], alternative='two-sided')\n",
    "    print(pvalue)\n"
   ]
  },
  {
   "cell_type": "code",
   "execution_count": 242,
   "id": "e26a4f1f",
   "metadata": {},
   "outputs": [
    {
     "data": {
      "image/png": "[encoded data removed]",
      "text/plain": [
       "<Figure size 1080x1080 with 2 Axes>"
      ]
     },
     "metadata": {
      "needs_background": "light"
     },
     "output_type": "display_data"
    }
   ],
   "source": [
    "# plotting the distribution of the features using histogram\n",
    "\n",
    "fig_rows = int(n_features/2) if n_features % 2 == 0 else int(n_features/2 + 1)\n",
    "fig_columns = 2\n",
    "bins = 50\n",
    "\n",
    "fig,ax = plt.subplots(fig_rows, fig_columns, figsize=(15,15))\n",
    "for feature in range(n_features):\n",
    "    row_num = int(feature/fig_columns)\n",
    "    col_num = feature%fig_columns\n",
    "    if len(ax.shape) > 1:\n",
    "        ax[row_num, col_num].hist([X[:, feature], Xn[0][:, feature]],\n",
    "                                  bins=bins,\n",
    "                                  label=['original', 'synthetic'])\n",
    "        ax[row_num, col_num].legend(['original', 'synthetic'])\n",
    "\n",
    "    else:\n",
    "        ax[col_num].hist([X[:, feature], Xn[0][:, feature]],\n",
    "                         bins=bins, \n",
    "                         label=['original', 'synthetic'])\n",
    "        ax[col_num].legend(['original', 'synthetic'])\n",
    "\n"
   ]
  },
  {
   "cell_type": "code",
   "execution_count": 44,
   "id": "42221e61",
   "metadata": {},
   "outputs": [
    {
     "name": "stdout",
     "output_type": "stream",
     "text": [
      "0.0 1.0 0.0 0.0\n",
      "[[-1.6458782 ]\n",
      " [ 0.73942353]\n",
      " [ 0.30065977]\n",
      " ...\n",
      " [ 0.5703887 ]\n",
      " [-0.31247244]\n",
      " [-0.01847845]]\n",
      "[[0.10296192]\n",
      " [0.30351868]\n",
      " [0.38131225]\n",
      " ...\n",
      " [0.33904916]\n",
      " [0.37993388]\n",
      " [0.39887418]]\n"
     ]
    },
    {
     "data": {
      "image/png": "[encoded data removed]",
      "text/plain": [
       "<Figure size 432x288 with 1 Axes>"
      ]
     },
     "metadata": {
      "needs_background": "light"
     },
     "output_type": "display_data"
    }
   ],
   "source": [
    "from scipy.stats import norm\n",
    "from sklearn.preprocessing import StandardScaler\n",
    "\n",
    "mean, var, skew, kurt = norm.stats(moments='mvsk')\n",
    "print(mean, var, skew, kurt)\n",
    "\n",
    "scaler = StandardScaler()\n",
    "\n",
    "scaledX = scaler.fit_transform(original_df[\"Annual_Premium\"].to_numpy().reshape(-1, 1))\n",
    "print(scaledX)\n",
    "\n",
    "# x = np.linspace(norm.ppf(0.01),\n",
    "#                 norm.ppf(0.99), 100)\n",
    "\n",
    "fig, ax = plt.subplots(1, 1)\n",
    "# ax.plot(scaledX, norm.pdf(scaledX),\n",
    "#        'r-', lw=5, alpha=0.6, label='norm pdf')\n",
    "print(norm.pdf(scaledX))"
   ]
  },
  {
   "cell_type": "code",
   "execution_count": 32,
   "id": "36e0e628",
   "metadata": {},
   "outputs": [
    {
     "name": "stdout",
     "output_type": "stream",
     "text": [
      "2630.0 [82405.57940037]\n",
      "43327.0 [78206.02798708]\n",
      "35841.0 [31619.67613926]\n",
      "27645.0 [34901.04742938]\n",
      "29023.0 [57549.27247186]\n",
      "27954.0 [68580.0559382]\n",
      "2630.0 [58667.34868397]\n",
      "2630.0 [50284.46563671]\n",
      "55873.0 [17948.21783872]\n",
      "27801.0 [57089.42144353]\n",
      "63623.0 [59650.84237564]\n",
      "47665.0 [3919.99877587]\n",
      "25434.0 [58393.52604018]\n",
      "40044.0 [66484.34508208]\n",
      "38347.0 [65349.73640787]\n",
      "33303.0 [61794.67185229]\n",
      "2630.0 [87248.52637753]\n",
      "30649.0 [24653.18190539]\n",
      "35887.0 [32055.30555346]\n",
      "28333.0 [49200.41285338]\n",
      "26066.0 [28893.3545283]\n",
      "2630.0 [52625.0190087]\n",
      "40987.0 [40735.840906]\n",
      "38566.0 [31723.74267418]\n",
      "23450.0 [-13683.15067759]\n"
     ]
    },
    {
     "ename": "ValueError",
     "evalue": "math domain error",
     "output_type": "error",
     "traceback": [
      "\u001b[0;31m---------------------------------------------------------------------------\u001b[0m",
      "\u001b[0;31mValueError\u001b[0m                                Traceback (most recent call last)",
      "Input \u001b[0;32mIn [32]\u001b[0m, in \u001b[0;36m<module>\u001b[0;34m\u001b[0m\n\u001b[1;32m     19\u001b[0m     sosq \u001b[38;5;241m=\u001b[39m \u001b[38;5;28msum\u001b[39m(list_of_squares)    \n\u001b[1;32m     21\u001b[0m     \u001b[38;5;28;01mreturn\u001b[39;00m sosq \u001b[38;5;241m/\u001b[39m math\u001b[38;5;241m.\u001b[39msqrt(\u001b[38;5;241m2\u001b[39m)\n\u001b[0;32m---> 23\u001b[0m \u001b[43mhellinger_explicit\u001b[49m\u001b[43m(\u001b[49m\u001b[43moriginal_df\u001b[49m\u001b[43m[\u001b[49m\u001b[38;5;124;43m\"\u001b[39;49m\u001b[38;5;124;43mAnnual_Premium\u001b[39;49m\u001b[38;5;124;43m\"\u001b[39;49m\u001b[43m]\u001b[49m\u001b[38;5;241;43m.\u001b[39;49m\u001b[43mto_numpy\u001b[49m\u001b[43m(\u001b[49m\u001b[43m)\u001b[49m\u001b[43m,\u001b[49m\u001b[43m \u001b[49m\u001b[43mXn_df\u001b[49m\u001b[38;5;241;43m.\u001b[39;49m\u001b[43mto_numpy\u001b[49m\u001b[43m(\u001b[49m\u001b[43m)\u001b[49m\u001b[43m)\u001b[49m\n",
      "Input \u001b[0;32mIn [32]\u001b[0m, in \u001b[0;36mhellinger_explicit\u001b[0;34m(p, q)\u001b[0m\n\u001b[1;32m      9\u001b[0m \u001b[38;5;28;01mfor\u001b[39;00m p_i, q_i \u001b[38;5;129;01min\u001b[39;00m \u001b[38;5;28mzip\u001b[39m(p, q):\n\u001b[1;32m     10\u001b[0m \n\u001b[1;32m     11\u001b[0m     \u001b[38;5;66;03m# caluclate the square of the difference of ith distr elements\u001b[39;00m\n\u001b[1;32m     12\u001b[0m     \u001b[38;5;28mprint\u001b[39m(p_i, q_i)\n\u001b[0;32m---> 13\u001b[0m     s \u001b[38;5;241m=\u001b[39m (math\u001b[38;5;241m.\u001b[39msqrt(p_i) \u001b[38;5;241m-\u001b[39m \u001b[43mmath\u001b[49m\u001b[38;5;241;43m.\u001b[39;49m\u001b[43msqrt\u001b[49m\u001b[43m(\u001b[49m\u001b[43mq_i\u001b[49m\u001b[43m)\u001b[49m) \u001b[38;5;241m*\u001b[39m\u001b[38;5;241m*\u001b[39m \u001b[38;5;241m2\u001b[39m\n\u001b[1;32m     15\u001b[0m     \u001b[38;5;66;03m# append \u001b[39;00m\n\u001b[1;32m     16\u001b[0m     list_of_squares\u001b[38;5;241m.\u001b[39mappend(s)\n",
      "\u001b[0;31mValueError\u001b[0m: math domain error"
     ]
    }
   ],
   "source": [
    "import math\n",
    "\n",
    "\n",
    "def hellinger_explicit(p, q):\n",
    "    \"\"\"Hellinger distance between two discrete distributions.\n",
    "       Same as original version but without list comprehension\n",
    "    \"\"\"\n",
    "    list_of_squares = []\n",
    "    for p_i, q_i in zip(p, q):\n",
    "\n",
    "        # caluclate the square of the difference of ith distr elements\n",
    "        print(p_i, q_i)\n",
    "        s = (math.sqrt(p_i) - math.sqrt(q_i)) ** 2\n",
    "\n",
    "        # append \n",
    "        list_of_squares.append(s)\n",
    "\n",
    "    # calculate sum of squares\n",
    "    sosq = sum(list_of_squares)\n",
    "\n",
    "    return sosq / math.sqrt(2)\n",
    "\n",
    "hellinger_explicit(original_df[\"Annual_Premium\"].to_numpy(), Xn_df.to_numpy())"
   ]
  }
 ],
 "metadata": {
  "kernelspec": {
   "display_name": "Python 3 (ipykernel)",
   "language": "python",
   "name": "python3"
  },
  "language_info": {
   "codemirror_mode": {
    "name": "ipython",
    "version": 3
   },
   "file_extension": ".py",
   "mimetype": "text/x-python",
   "name": "python",
   "nbconvert_exporter": "python",
   "pygments_lexer": "ipython3",
   "version": "3.9.7"
  }
 },
 "nbformat": 4,
 "nbformat_minor": 5
}
